{
  "nbformat": 4,
  "nbformat_minor": 0,
  "metadata": {
    "colab": {
      "name": "OpenPose_Singleperson_Video.ipynb",
      "provenance": [],
      "collapsed_sections": [],
      "toc_visible": true
    },
    "kernelspec": {
      "name": "python3",
      "display_name": "Python 3"
    },
    "accelerator": "GPU"
  },
  "cells": [
    {
      "cell_type": "code",
      "metadata": {
        "id": "ewl3B2vNgbFO",
        "colab_type": "code",
        "colab": {}
      },
      "source": [
        "import cv2\n",
        "import time\n",
        "import numpy as np\n",
        "import matplotlib.pyplot as plt\n",
        "%matplotlib inline"
      ],
      "execution_count": 0,
      "outputs": []
    },
    {
      "cell_type": "code",
      "metadata": {
        "id": "XtWQMf12gmU_",
        "colab_type": "code",
        "colab": {
          "base_uri": "https://localhost:8080/",
          "height": 204
        },
        "outputId": "2debddd5-2a7e-47e6-f611-6f12acca504c"
      },
      "source": [
        "!wget http://posefs1.perception.cs.cmu.edu/OpenPose/models/pose/coco/pose_iter_440000.caffemodel"
      ],
      "execution_count": 2,
      "outputs": [
        {
          "output_type": "stream",
          "text": [
            "--2019-11-07 06:19:16--  http://posefs1.perception.cs.cmu.edu/OpenPose/models/pose/coco/pose_iter_440000.caffemodel\n",
            "Resolving posefs1.perception.cs.cmu.edu (posefs1.perception.cs.cmu.edu)... 128.2.176.37\n",
            "Connecting to posefs1.perception.cs.cmu.edu (posefs1.perception.cs.cmu.edu)|128.2.176.37|:80... connected.\n",
            "HTTP request sent, awaiting response... 200 OK\n",
            "Length: 209274056 (200M) [text/plain]\n",
            "Saving to: ‘pose_iter_440000.caffemodel’\n",
            "\n",
            "pose_iter_440000.ca 100%[===================>] 199.58M  29.4MB/s    in 8.3s    \n",
            "\n",
            "2019-11-07 06:19:25 (24.1 MB/s) - ‘pose_iter_440000.caffemodel’ saved [209274056/209274056]\n",
            "\n"
          ],
          "name": "stdout"
        }
      ]
    },
    {
      "cell_type": "code",
      "metadata": {
        "id": "C22CCOn3gtDW",
        "colab_type": "code",
        "colab": {
          "base_uri": "https://localhost:8080/",
          "height": 204
        },
        "outputId": "d30a4115-7904-4bc9-c422-ed4c1c9a7ae1"
      },
      "source": [
        "!wget http://posefs1.perception.cs.cmu.edu/OpenPose/models/pose/mpi/pose_iter_160000.caffemodel"
      ],
      "execution_count": 3,
      "outputs": [
        {
          "output_type": "stream",
          "text": [
            "--2019-11-07 06:19:33--  http://posefs1.perception.cs.cmu.edu/OpenPose/models/pose/mpi/pose_iter_160000.caffemodel\n",
            "Resolving posefs1.perception.cs.cmu.edu (posefs1.perception.cs.cmu.edu)... 128.2.176.37\n",
            "Connecting to posefs1.perception.cs.cmu.edu (posefs1.perception.cs.cmu.edu)|128.2.176.37|:80... connected.\n",
            "HTTP request sent, awaiting response... 200 OK\n",
            "Length: 205950363 (196M) [text/plain]\n",
            "Saving to: ‘pose_iter_160000.caffemodel’\n",
            "\n",
            "pose_iter_160000.ca 100%[===================>] 196.41M  30.1MB/s    in 8.4s    \n",
            "\n",
            "2019-11-07 06:19:41 (23.4 MB/s) - ‘pose_iter_160000.caffemodel’ saved [205950363/205950363]\n",
            "\n"
          ],
          "name": "stdout"
        }
      ]
    },
    {
      "cell_type": "code",
      "metadata": {
        "id": "qrbesSrHgyJ2",
        "colab_type": "code",
        "colab": {
          "base_uri": "https://localhost:8080/",
          "height": 119
        },
        "outputId": "90cc3543-1faa-4925-8446-7d93377b5e88"
      },
      "source": [
        "!git clone https://github.com/GouthamanAsokan/learnopencv.git"
      ],
      "execution_count": 4,
      "outputs": [
        {
          "output_type": "stream",
          "text": [
            "Cloning into 'learnopencv'...\n",
            "remote: Enumerating objects: 5298, done.\u001b[K\n",
            "remote: Total 5298 (delta 0), reused 0 (delta 0), pack-reused 5298\u001b[K\n",
            "Receiving objects: 100% (5298/5298), 290.75 MiB | 32.79 MiB/s, done.\n",
            "Resolving deltas: 100% (1402/1402), done.\n",
            "Checking out files: 100% (2632/2632), done.\n"
          ],
          "name": "stdout"
        }
      ]
    },
    {
      "cell_type": "code",
      "metadata": {
        "id": "g7TwAznkg7vQ",
        "colab_type": "code",
        "colab": {
          "base_uri": "https://localhost:8080/",
          "height": 122
        },
        "outputId": "1c7aeec0-ec67-4778-f9c0-a22786865e3a"
      },
      "source": [
        "from google.colab import drive\n",
        "drive.mount('/content/drive')"
      ],
      "execution_count": 5,
      "outputs": [
        {
          "output_type": "stream",
          "text": [
            "Go to this URL in a browser: https://accounts.google.com/o/oauth2/auth?client_id=947318989803-6bn6qk8qdgf4n4g3pfee6491hc0brc4i.apps.googleusercontent.com&redirect_uri=urn%3Aietf%3Awg%3Aoauth%3A2.0%3Aoob&scope=email%20https%3A%2F%2Fwww.googleapis.com%2Fauth%2Fdocs.test%20https%3A%2F%2Fwww.googleapis.com%2Fauth%2Fdrive%20https%3A%2F%2Fwww.googleapis.com%2Fauth%2Fdrive.photos.readonly%20https%3A%2F%2Fwww.googleapis.com%2Fauth%2Fpeopleapi.readonly&response_type=code\n",
            "\n",
            "Enter your authorization code:\n",
            "··········\n",
            "Mounted at /content/drive\n"
          ],
          "name": "stdout"
        }
      ]
    },
    {
      "cell_type": "code",
      "metadata": {
        "id": "PyGueXz5hapo",
        "colab_type": "code",
        "colab": {}
      },
      "source": [
        "MODE = \"MPI\"\n",
        "\n",
        "if MODE is \"COCO\":\n",
        "    protoFile = \"/content/learnopencv/OpenPose/pose/coco/pose_deploy_linevec.prototxt\"\n",
        "    weightsFile = \"pose_iter_440000.caffemodel\"\n",
        "    nPoints = 18\n",
        "    POSE_PAIRS = [ [1,0],[1,2],[1,5],[2,3],[3,4],[5,6],[6,7],[1,8],[8,9],[9,10],[1,11],[11,12],[12,13],[0,14],[0,15],[14,16],[15,17]]\n",
        "\n",
        "elif MODE is \"MPI\" :\n",
        "    protoFile = \"/content/learnopencv/OpenPose/pose/mpi/pose_deploy_linevec_faster_4_stages.prototxt\"\n",
        "    weightsFile = \"pose_iter_160000.caffemodel\"\n",
        "    nPoints = 15\n",
        "    POSE_PAIRS = [[0,1], [1,2], [2,3], [3,4], [1,5], [5,6], [6,7], [1,14], [14,8], [8,9], [9,10], [14,11], [11,12], [12,13] ]"
      ],
      "execution_count": 0,
      "outputs": []
    },
    {
      "cell_type": "code",
      "metadata": {
        "id": "tLMjltlBiEhw",
        "colab_type": "code",
        "colab": {}
      },
      "source": [
        "inWidth = 368\n",
        "inHeight = 368\n",
        "threshold = 0.1\n",
        "\n",
        "\n",
        "input_source = \"/content/drive/My Drive/dancing.mp4\"\n",
        "cap = cv2.VideoCapture(input_source)\n",
        "hasFrame, frame = cap.read()\n",
        "\n",
        "vid_writer = cv2.VideoWriter('output.avi',cv2.VideoWriter_fourcc('M','J','P','G'), 10, (frame.shape[1],frame.shape[0]))\n",
        "\n",
        "net = cv2.dnn.readNetFromCaffe(protoFile, weightsFile)\n"
      ],
      "execution_count": 0,
      "outputs": []
    },
    {
      "cell_type": "code",
      "metadata": {
        "id": "6zpy-jssihJx",
        "colab_type": "code",
        "colab": {}
      },
      "source": [
        "from google.colab.patches import cv2_imshow"
      ],
      "execution_count": 0,
      "outputs": []
    },
    {
      "cell_type": "code",
      "metadata": {
        "id": "LUX9rUxpiP3k",
        "colab_type": "code",
        "colab": {}
      },
      "source": [
        "while cv2.waitKey(1) < 0:\n",
        "    t = time.time()\n",
        "    hasFrame, frame = cap.read()\n",
        "    frameCopy = np.copy(frame)\n",
        "    if not hasFrame:\n",
        "        cv2.waitKey()\n",
        "        break\n",
        "\n",
        "    frameWidth = frame.shape[1]\n",
        "    frameHeight = frame.shape[0]\n",
        "\n",
        "    inpBlob = cv2.dnn.blobFromImage(frame, 1.0 / 255, (inWidth, inHeight),\n",
        "                              (0, 0, 0), swapRB=False, crop=False)\n",
        "    net.setInput(inpBlob)\n",
        "    output = net.forward()\n",
        "\n",
        "    H = output.shape[2]\n",
        "    W = output.shape[3]\n",
        "    # Empty list to store the detected keypoints\n",
        "    points = []\n",
        "\n",
        "    for i in range(nPoints):\n",
        "        # confidence map of corresponding body's part.\n",
        "        probMap = output[0, i, :, :]\n",
        "\n",
        "        # Find global maxima of the probMap.\n",
        "        minVal, prob, minLoc, point = cv2.minMaxLoc(probMap)\n",
        "        \n",
        "        # Scale the point to fit on the original image\n",
        "        x = (frameWidth * point[0]) / W\n",
        "        y = (frameHeight * point[1]) / H\n",
        "\n",
        "        if prob > threshold : \n",
        "            cv2.circle(frameCopy, (int(x), int(y)), 8, (0, 255, 255), thickness=-1, lineType=cv2.FILLED)\n",
        "            cv2.putText(frameCopy, \"{}\".format(i), (int(x), int(y)), cv2.FONT_HERSHEY_SIMPLEX, 1, (0, 0, 255), 2, lineType=cv2.LINE_AA)\n",
        "\n",
        "            # Add the point to the list if the probability is greater than the threshold\n",
        "            points.append((int(x), int(y)))\n",
        "        else :\n",
        "            points.append(None)\n",
        "\n",
        "    # Draw Skeleton\n",
        "    for pair in POSE_PAIRS:\n",
        "        partA = pair[0]\n",
        "        partB = pair[1]\n",
        "\n",
        "        if points[partA] and points[partB]:\n",
        "            cv2.line(frame, points[partA], points[partB], (0, 255, 255), 3, lineType=cv2.LINE_AA)\n",
        "            cv2.circle(frame, points[partA], 8, (0, 0, 255), thickness=-1, lineType=cv2.FILLED)\n",
        "            cv2.circle(frame, points[partB], 8, (0, 0, 255), thickness=-1, lineType=cv2.FILLED)\n",
        "\n",
        "    cv2.putText(frame, \"time taken = {:.2f} sec\".format(time.time() - t), (50, 50), cv2.FONT_HERSHEY_COMPLEX, .8, (255, 50, 0), 2, lineType=cv2.LINE_AA)\n",
        "    # cv2.putText(frame, \"OpenPose using OpenCV\", (50, 50), cv2.FONT_HERSHEY_COMPLEX, 1, (255, 50, 0), 2, lineType=cv2.LINE_AA)\n",
        "    # cv2.imshow('Output-Keypoints', frameCopy)\n",
        "    cv2_imshow(frame)\n",
        "\n",
        "    vid_writer.write(frame)\n",
        "\n",
        "vid_writer.release()"
      ],
      "execution_count": 0,
      "outputs": []
    }
  ]
}